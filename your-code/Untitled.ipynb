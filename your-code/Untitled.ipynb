{
 "cells": [
  {
   "cell_type": "code",
   "execution_count": 12,
   "id": "50fb1d24",
   "metadata": {},
   "outputs": [
    {
     "name": "stdout",
     "output_type": "stream",
     "text": [
      "[1, 2, 3, 5, 8, 13, 21, 34, 55]\n"
     ]
    }
   ],
   "source": [
    "#Serie Fibonacci\n",
    "#Queremos los primeros diez numeros de fibonacci\n",
    "a = 0\n",
    "b = 1\n",
    "lista = []\n",
    "for i in range(1,10):\n",
    "    lista.append(a + b)\n",
    "    a,b = b, (a + b)\n",
    "print(lista)\n"
   ]
  },
  {
   "cell_type": "code",
   "execution_count": 15,
   "id": "6f8fb585",
   "metadata": {},
   "outputs": [
    {
     "name": "stdout",
     "output_type": "stream",
     "text": [
      "('Benja', 25, 'Caracas')\n",
      "('Mari', 28, 'Maracaibo')\n",
      "('Nathy', 27, 'Caracas')\n",
      "('Wil', 33, 'Caracas')\n"
     ]
    }
   ],
   "source": [
    "people = ['Benja', 'Mari', 'Nathy', 'Wil']\n",
    "ages = [25, 28, 27, 33]\n",
    "city = ['Caracas', 'Maracaibo','Caracas','Caracas']\n",
    "\n",
    "for data in zip(people, ages, city):\n",
    "    print(data)"
   ]
  },
  {
   "cell_type": "code",
   "execution_count": 17,
   "id": "99caa08b",
   "metadata": {},
   "outputs": [
    {
     "name": "stdout",
     "output_type": "stream",
     "text": [
      "[0, 2, 4, 6, 8, 10, 12, 14, 16, 18, 20, 22, 24, 26, 28, 30, 32, 34, 36, 38, 40, 42, 44, 46, 48, 50, 52, 54, 56, 58, 60, 62, 64, 66, 68, 70, 72, 74, 76, 78, 80, 82, 84, 86, 88, 90, 92, 94, 96, 98]\n"
     ]
    }
   ],
   "source": [
    "super_duper = [i for i in range(100) if i % 2 == 0]\n",
    "print(super_duper)"
   ]
  },
  {
   "cell_type": "code",
   "execution_count": null,
   "id": "89503bb6",
   "metadata": {},
   "outputs": [],
   "source": []
  }
 ],
 "metadata": {
  "kernelspec": {
   "display_name": "Python 3",
   "language": "python",
   "name": "python3"
  },
  "language_info": {
   "codemirror_mode": {
    "name": "ipython",
    "version": 3
   },
   "file_extension": ".py",
   "mimetype": "text/x-python",
   "name": "python",
   "nbconvert_exporter": "python",
   "pygments_lexer": "ipython3",
   "version": "3.8.8"
  }
 },
 "nbformat": 4,
 "nbformat_minor": 5
}
