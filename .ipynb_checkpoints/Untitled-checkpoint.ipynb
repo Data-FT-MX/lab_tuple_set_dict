{
 "cells": [
  {
   "cell_type": "code",
   "execution_count": 6,
   "id": "5813f7a1",
   "metadata": {},
   "outputs": [
    {
     "name": "stdout",
     "output_type": "stream",
     "text": [
      "['hola', 234, True]\n"
     ]
    }
   ],
   "source": [
    "lista_ej = ['hola',234, True]\n",
    "\n",
    "print(lista_ej)"
   ]
  },
  {
   "cell_type": "code",
   "execution_count": 7,
   "id": "4acc361a",
   "metadata": {},
   "outputs": [],
   "source": [
    "mithology = ('zeus', 'ades','atenis')"
   ]
  },
  {
   "cell_type": "code",
   "execution_count": 8,
   "id": "60f05bc7",
   "metadata": {},
   "outputs": [
    {
     "data": {
      "text/plain": [
       "('zeus', 'ades', 'atenis')"
      ]
     },
     "execution_count": 8,
     "metadata": {},
     "output_type": "execute_result"
    }
   ],
   "source": [
    "mithology\n"
   ]
  },
  {
   "cell_type": "code",
   "execution_count": 9,
   "id": "ee28e52e",
   "metadata": {},
   "outputs": [
    {
     "data": {
      "text/plain": [
       "3"
      ]
     },
     "execution_count": 9,
     "metadata": {},
     "output_type": "execute_result"
    }
   ],
   "source": [
    "len(mithology)"
   ]
  },
  {
   "cell_type": "code",
   "execution_count": 10,
   "id": "735e2324",
   "metadata": {},
   "outputs": [
    {
     "name": "stdout",
     "output_type": "stream",
     "text": [
      "zeus\n",
      "ades\n",
      "atenis\n"
     ]
    }
   ],
   "source": [
    "for item in mithology :\n",
    "    print(item)"
   ]
  },
  {
   "cell_type": "code",
   "execution_count": 11,
   "id": "655c8df2",
   "metadata": {},
   "outputs": [
    {
     "name": "stdout",
     "output_type": "stream",
     "text": [
      "trueno\n"
     ]
    }
   ],
   "source": [
    "if 'zeus' in mithology:\n",
    "    print('trueno')\n",
    "else:\n",
    "    print('kratos')"
   ]
  },
  {
   "cell_type": "code",
   "execution_count": 12,
   "id": "dc045fa2",
   "metadata": {},
   "outputs": [
    {
     "name": "stdout",
     "output_type": "stream",
     "text": [
      "('hola', 234, True)\n"
     ]
    }
   ],
   "source": [
    "# Declararlo con el constructor \n",
    "\n",
    "tuple_mythology = tuple(lista_ej)\n",
    "print(tuple_mythology)\n"
   ]
  },
  {
   "cell_type": "code",
   "execution_count": 13,
   "id": "f8bed83d",
   "metadata": {},
   "outputs": [],
   "source": [
    "# Dicts\n"
   ]
  },
  {
   "cell_type": "code",
   "execution_count": 16,
   "id": "718cd3a2",
   "metadata": {},
   "outputs": [],
   "source": [
    "miles_k = {'mercedes' : 205, 'gol' : 45 }\n"
   ]
  },
  {
   "cell_type": "code",
   "execution_count": 17,
   "id": "52bdf46f",
   "metadata": {},
   "outputs": [],
   "source": [
    "import operator as op"
   ]
  },
  {
   "cell_type": "code",
   "execution_count": 18,
   "id": "6f1190ba",
   "metadata": {},
   "outputs": [],
   "source": [
    "miles_k_ordenado = sorted(miles_k.items(), key=op.itemgetter(1))"
   ]
  },
  {
   "cell_type": "code",
   "execution_count": 19,
   "id": "b6cfcca9",
   "metadata": {},
   "outputs": [
    {
     "name": "stdout",
     "output_type": "stream",
     "text": [
      "[('gol', 45), ('mercedes', 205)]\n"
     ]
    }
   ],
   "source": [
    "print(miles_k_ordenado)"
   ]
  },
  {
   "cell_type": "code",
   "execution_count": 20,
   "id": "51e22c8c",
   "metadata": {},
   "outputs": [],
   "source": [
    "#INTERSECCION, UNION, DIFERENCIA "
   ]
  },
  {
   "cell_type": "code",
   "execution_count": 21,
   "id": "699bc8bf",
   "metadata": {},
   "outputs": [],
   "source": [
    "lista1 = ['ben', 'sa', 'ponz', 'carla']\n",
    "lista2 = ['ben', 'carl', 'ponz', 'dori']\n"
   ]
  },
  {
   "cell_type": "code",
   "execution_count": 22,
   "id": "788a6c15",
   "metadata": {},
   "outputs": [],
   "source": [
    "lista1= set(lista1)\n",
    "lista2 = set(lista2)"
   ]
  },
  {
   "cell_type": "code",
   "execution_count": 24,
   "id": "df2b5962",
   "metadata": {},
   "outputs": [
    {
     "data": {
      "text/plain": [
       "{'ben', 'ponz'}"
      ]
     },
     "execution_count": 24,
     "metadata": {},
     "output_type": "execute_result"
    }
   ],
   "source": [
    "#interseccion\n",
    "inter_2g = lista1.intersection(lista2)\n",
    "inter_2g"
   ]
  },
  {
   "cell_type": "code",
   "execution_count": 25,
   "id": "f6c9cd75",
   "metadata": {},
   "outputs": [
    {
     "data": {
      "text/plain": [
       "{'ben', 'carl', 'carla', 'dori', 'ponz', 'sa'}"
      ]
     },
     "execution_count": 25,
     "metadata": {},
     "output_type": "execute_result"
    }
   ],
   "source": [
    "convi_2g = lista1.union(lista2)\n",
    "convi_2g"
   ]
  },
  {
   "cell_type": "code",
   "execution_count": 26,
   "id": "78569c6f",
   "metadata": {},
   "outputs": [],
   "source": [
    "lista3 = lista1 - lista2"
   ]
  },
  {
   "cell_type": "code",
   "execution_count": 27,
   "id": "b3ff1834",
   "metadata": {},
   "outputs": [
    {
     "data": {
      "text/plain": [
       "{'carla', 'sa'}"
      ]
     },
     "execution_count": 27,
     "metadata": {},
     "output_type": "execute_result"
    }
   ],
   "source": [
    "lista3"
   ]
  },
  {
   "cell_type": "code",
   "execution_count": 28,
   "id": "7218f7ee",
   "metadata": {},
   "outputs": [
    {
     "data": {
      "text/plain": [
       "{'carl', 'dori'}"
      ]
     },
     "execution_count": 28,
     "metadata": {},
     "output_type": "execute_result"
    }
   ],
   "source": [
    "lista4 = lista2 -lista1\n",
    "lista4"
   ]
  },
  {
   "cell_type": "code",
   "execution_count": 2,
   "id": "b01cd63d",
   "metadata": {},
   "outputs": [
    {
     "name": "stdout",
     "output_type": "stream",
     "text": [
      "Help on class set in module builtins:\n",
      "\n",
      "class set(object)\n",
      " |  set() -> new empty set object\n",
      " |  set(iterable) -> new set object\n",
      " |  \n",
      " |  Build an unordered collection of unique elements.\n",
      " |  \n",
      " |  Methods defined here:\n",
      " |  \n",
      " |  __and__(self, value, /)\n",
      " |      Return self&value.\n",
      " |  \n",
      " |  __contains__(...)\n",
      " |      x.__contains__(y) <==> y in x.\n",
      " |  \n",
      " |  __eq__(self, value, /)\n",
      " |      Return self==value.\n",
      " |  \n",
      " |  __ge__(self, value, /)\n",
      " |      Return self>=value.\n",
      " |  \n",
      " |  __getattribute__(self, name, /)\n",
      " |      Return getattr(self, name).\n",
      " |  \n",
      " |  __gt__(self, value, /)\n",
      " |      Return self>value.\n",
      " |  \n",
      " |  __iand__(self, value, /)\n",
      " |      Return self&=value.\n",
      " |  \n",
      " |  __init__(self, /, *args, **kwargs)\n",
      " |      Initialize self.  See help(type(self)) for accurate signature.\n",
      " |  \n",
      " |  __ior__(self, value, /)\n",
      " |      Return self|=value.\n",
      " |  \n",
      " |  __isub__(self, value, /)\n",
      " |      Return self-=value.\n",
      " |  \n",
      " |  __iter__(self, /)\n",
      " |      Implement iter(self).\n",
      " |  \n",
      " |  __ixor__(self, value, /)\n",
      " |      Return self^=value.\n",
      " |  \n",
      " |  __le__(self, value, /)\n",
      " |      Return self<=value.\n",
      " |  \n",
      " |  __len__(self, /)\n",
      " |      Return len(self).\n",
      " |  \n",
      " |  __lt__(self, value, /)\n",
      " |      Return self<value.\n",
      " |  \n",
      " |  __ne__(self, value, /)\n",
      " |      Return self!=value.\n",
      " |  \n",
      " |  __or__(self, value, /)\n",
      " |      Return self|value.\n",
      " |  \n",
      " |  __rand__(self, value, /)\n",
      " |      Return value&self.\n",
      " |  \n",
      " |  __reduce__(...)\n",
      " |      Return state information for pickling.\n",
      " |  \n",
      " |  __repr__(self, /)\n",
      " |      Return repr(self).\n",
      " |  \n",
      " |  __ror__(self, value, /)\n",
      " |      Return value|self.\n",
      " |  \n",
      " |  __rsub__(self, value, /)\n",
      " |      Return value-self.\n",
      " |  \n",
      " |  __rxor__(self, value, /)\n",
      " |      Return value^self.\n",
      " |  \n",
      " |  __sizeof__(...)\n",
      " |      S.__sizeof__() -> size of S in memory, in bytes\n",
      " |  \n",
      " |  __sub__(self, value, /)\n",
      " |      Return self-value.\n",
      " |  \n",
      " |  __xor__(self, value, /)\n",
      " |      Return self^value.\n",
      " |  \n",
      " |  add(...)\n",
      " |      Add an element to a set.\n",
      " |      \n",
      " |      This has no effect if the element is already present.\n",
      " |  \n",
      " |  clear(...)\n",
      " |      Remove all elements from this set.\n",
      " |  \n",
      " |  copy(...)\n",
      " |      Return a shallow copy of a set.\n",
      " |  \n",
      " |  difference(...)\n",
      " |      Return the difference of two or more sets as a new set.\n",
      " |      \n",
      " |      (i.e. all elements that are in this set but not the others.)\n",
      " |  \n",
      " |  difference_update(...)\n",
      " |      Remove all elements of another set from this set.\n",
      " |  \n",
      " |  discard(...)\n",
      " |      Remove an element from a set if it is a member.\n",
      " |      \n",
      " |      If the element is not a member, do nothing.\n",
      " |  \n",
      " |  intersection(...)\n",
      " |      Return the intersection of two sets as a new set.\n",
      " |      \n",
      " |      (i.e. all elements that are in both sets.)\n",
      " |  \n",
      " |  intersection_update(...)\n",
      " |      Update a set with the intersection of itself and another.\n",
      " |  \n",
      " |  isdisjoint(...)\n",
      " |      Return True if two sets have a null intersection.\n",
      " |  \n",
      " |  issubset(...)\n",
      " |      Report whether another set contains this set.\n",
      " |  \n",
      " |  issuperset(...)\n",
      " |      Report whether this set contains another set.\n",
      " |  \n",
      " |  pop(...)\n",
      " |      Remove and return an arbitrary set element.\n",
      " |      Raises KeyError if the set is empty.\n",
      " |  \n",
      " |  remove(...)\n",
      " |      Remove an element from a set; it must be a member.\n",
      " |      \n",
      " |      If the element is not a member, raise a KeyError.\n",
      " |  \n",
      " |  symmetric_difference(...)\n",
      " |      Return the symmetric difference of two sets as a new set.\n",
      " |      \n",
      " |      (i.e. all elements that are in exactly one of the sets.)\n",
      " |  \n",
      " |  symmetric_difference_update(...)\n",
      " |      Update a set with the symmetric difference of itself and another.\n",
      " |  \n",
      " |  union(...)\n",
      " |      Return the union of sets as a new set.\n",
      " |      \n",
      " |      (i.e. all elements that are in either set.)\n",
      " |  \n",
      " |  update(...)\n",
      " |      Update a set with the union of itself and others.\n",
      " |  \n",
      " |  ----------------------------------------------------------------------\n",
      " |  Class methods defined here:\n",
      " |  \n",
      " |  __class_getitem__(...) from builtins.type\n",
      " |      See PEP 585\n",
      " |  \n",
      " |  ----------------------------------------------------------------------\n",
      " |  Static methods defined here:\n",
      " |  \n",
      " |  __new__(*args, **kwargs) from builtins.type\n",
      " |      Create and return a new object.  See help(type) for accurate signature.\n",
      " |  \n",
      " |  ----------------------------------------------------------------------\n",
      " |  Data and other attributes defined here:\n",
      " |  \n",
      " |  __hash__ = None\n",
      "\n"
     ]
    }
   ],
   "source": [
    "help(set)"
   ]
  },
  {
   "cell_type": "code",
   "execution_count": null,
   "id": "a3d407bb",
   "metadata": {},
   "outputs": [],
   "source": []
  }
 ],
 "metadata": {
  "kernelspec": {
   "display_name": "Python 3 (ipykernel)",
   "language": "python",
   "name": "python3"
  },
  "language_info": {
   "codemirror_mode": {
    "name": "ipython",
    "version": 3
   },
   "file_extension": ".py",
   "mimetype": "text/x-python",
   "name": "python",
   "nbconvert_exporter": "python",
   "pygments_lexer": "ipython3",
   "version": "3.9.6"
  }
 },
 "nbformat": 4,
 "nbformat_minor": 5
}
